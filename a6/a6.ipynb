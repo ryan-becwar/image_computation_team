{
 "cells": [
  {
   "cell_type": "code",
   "execution_count": null,
   "metadata": {},
   "outputs": [],
   "source": [
    "#!/usr/bin/env python\n",
    "# from http://blog.aloni.org/posts/backprop-with-tensorflow/\n",
    "\n",
    "import tensorflow\n",
    "import tensorflow as tf\n",
    "\n",
    "from tensorflow.examples.tutorials.mnist import input_data\n",
    "mnist = input_data.read_data_sets(\"MNIST_data/\", one_hot=True)\n",
    "\n",
    "a_0 = tf.placeholder(tf.float32, [None, 784])\n",
    "y = tf.placeholder(tf.float32, [None, 10])\n",
    "\n",
    "middle = 30\n",
    "w_1 = tf.Variable(tf.truncated_normal([784, middle]))\n",
    "b_1 = tf.Variable(tf.truncated_normal([1, middle]))\n",
    "w_2 = tf.Variable(tf.truncated_normal([middle, 10]))\n",
    "b_2 = tf.Variable(tf.truncated_normal([1, 10]))\n",
    "\n",
    "###\n",
    "\n"
   ]
  }
 ],
 "metadata": {
  "kernelspec": {
   "display_name": "Python 3",
   "language": "python",
   "name": "python3"
  },
  "language_info": {
   "codemirror_mode": {
    "name": "ipython",
    "version": 3
   },
   "file_extension": ".py",
   "mimetype": "text/x-python",
   "name": "python",
   "nbconvert_exporter": "python",
   "pygments_lexer": "ipython3",
   "version": "3.6.4"
  }
 },
 "nbformat": 4,
 "nbformat_minor": 2
}
